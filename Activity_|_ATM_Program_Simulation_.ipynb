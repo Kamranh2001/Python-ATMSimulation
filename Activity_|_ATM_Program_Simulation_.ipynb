{
  "nbformat": 4,
  "nbformat_minor": 0,
  "metadata": {
    "colab": {
      "provenance": [],
      "authorship_tag": "ABX9TyOLmdVXEHjzOJQtHxiLR2G6",
      "include_colab_link": true
    },
    "kernelspec": {
      "name": "python3",
      "display_name": "Python 3"
    },
    "language_info": {
      "name": "python"
    }
  },
  "cells": [
    {
      "cell_type": "markdown",
      "metadata": {
        "id": "view-in-github",
        "colab_type": "text"
      },
      "source": [
        "<a href=\"https://colab.research.google.com/github/Kamranh2001/Python-ATMSimulation/blob/main/Activity_%7C_ATM_Program_Simulation_.ipynb\" target=\"_parent\"><img src=\"https://colab.research.google.com/assets/colab-badge.svg\" alt=\"Open In Colab\"/></a>"
      ]
    },
    {
      "cell_type": "markdown",
      "source": [
        "# **ATM Program Simulation -**"
      ],
      "metadata": {
        "id": "_tPiAiH4UHGi"
      }
    },
    {
      "cell_type": "code",
      "execution_count": null,
      "metadata": {
        "id": "RYY5XnBaCMsk"
      },
      "outputs": [],
      "source": [
        "'''\n",
        "Build ATM simulation where:\n",
        "\n",
        "1. Main Menu consisting of -\n",
        "    (i) bank account balance\n",
        "    (ii) deposit money\n",
        "    (iii) withdraw money\n",
        "    (iv) exit ATM\n",
        "\n",
        "2. Prompts user to enter -\n",
        "    (i) '1' to display balance\n",
        "    (ii) '2' for submenu for withdrawal allowing\n",
        "                  - request for amount\n",
        "                  - check amount requested is available\n",
        "                  - if 'other'amount' is chosen prompt user for int\n",
        "                                   - check int must be multiple of 10\n",
        "                  - calculate new balance & return to Main Menu\n",
        "\n",
        "3. If exit chosen print goodbye message and return to beginning\n",
        "\n",
        "4. If another value ever chosen then must show error message\n",
        "              - return to Main Menu\n",
        "'''"
      ]
    },
    {
      "cell_type": "code",
      "source": [
        "balance= float(10000.00)\n",
        "user_name= 'Kamran'\n",
        "\n",
        "user_balance= float('%.2f' % balance)"
      ],
      "metadata": {
        "id": "XwCgNx80RYhz"
      },
      "execution_count": null,
      "outputs": []
    },
    {
      "cell_type": "code",
      "source": [
        "user_PIN= int(input('Create PIN: '))"
      ],
      "metadata": {
        "colab": {
          "base_uri": "https://localhost:8080/"
        },
        "id": "Rl7sHU8zEmSP",
        "outputId": "6fc13e3c-91f9-42e0-e25d-6dabba5645bc"
      },
      "execution_count": null,
      "outputs": [
        {
          "name": "stdout",
          "output_type": "stream",
          "text": [
            "Create PIN: 1234\n"
          ]
        }
      ]
    },
    {
      "cell_type": "code",
      "source": [
        "enter_PIN= int(input('Enter PIN: '))\n",
        "\n",
        "\n",
        "while(True):\n",
        "  if enter_PIN == user_PIN:\n",
        "    print(f'PIN Accepted. Welcome {user_name}.', end= '\\n\\n')\n",
        "  else:\n",
        "    print('Invalid PIN. Try again.')\n",
        "    enter_PIN= int(input('Enter PIN: '))\n",
        "\n",
        "    if enter_PIN == user_PIN:\n",
        "      print(f'PIN Accepted. Welcome {user_name}.', end= '\\n\\n')\n",
        "    else:\n",
        "      print('Invalid PIN. Try again.')\n",
        "      enter_PIN= int(input('Enter PIN: '))\n",
        "\n",
        "      if enter_PIN == user_PIN:\n",
        "        print(f'PIN Accepted. Welcome {user_name}.', end= '\\n\\n')\n",
        "      else:\n",
        "        print('ERROR: Too many wrong attempts.')\n",
        "        print('\\nCancelling Operation...')\n",
        "        print('Operation Cancelled. Please try again.')\n",
        "        break\n",
        "\n",
        "  if enter_PIN == user_PIN:\n",
        "    print('MAIN MENU', end= '\\n')\n",
        "    print('1. View Account Balance')\n",
        "    print('2. Make a Withdrawal')\n",
        "    print('3. Make a Deposit')\n",
        "    print('4. Exit')\n",
        "\n",
        "  menu_in=int(input('Please enter from the Menu. '))\n",
        "\n",
        "  if menu_in == 4:\n",
        "    print('\\nExiting...')\n",
        "    print('You have been logged out. Thank You.')\n",
        "    break\n",
        "\n",
        "  elif menu_in == 1:\n",
        "    print('\\nLoading Account Balance...', end= '\\n')\n",
        "    print((f'Current Balance = £ {user_balance}'))\n",
        "    break\n",
        "\n",
        "  elif menu_in == 2:\n",
        "    print('\\nLoading Withdrawal Menu...', end= '\\n')\n",
        "    print('Choose Amount to Withdraw:')\n",
        "    print('1. 10'\n",
        "            '\\n2. 20'\n",
        "            '\\n3. 30'\n",
        "            '\\n4. 40'\n",
        "            '\\n5. 50'\n",
        "            '\\n6. Other Amount'\n",
        "            )\n",
        "  w_amount= int(input('Choose from the menu: '))\n",
        "  if w_amount == 6:\n",
        "    print('Opening Cash Withdrawal...')\n",
        "    mw_amount= int(input('Please enter amount: '))\n",
        "    iuser_balance= int(user_balance)\n",
        "    if mw_amount > iuser_balance or mw_amount < iuser_balance and mw_amount%10 !=0:\n",
        "        print('Cannot withdraw chosen amount.')\n",
        "        print('Please try again.')\n",
        "        mw_amount= float(input('Please enter amount: '))\n",
        "    else:\n",
        "      n1user_balance= balance - mw_amount\n",
        "      confirm =str(input('Confirm Y/N '))\n",
        "    if confirm == 'Y':\n",
        "        print('Amount withdrawn')\n",
        "        print(f'Remaining Balance = £ {n1user_balance}')\n",
        "        print('Thank You.')\n",
        "        break\n",
        "  else:\n",
        "     confirm =str(input('Confirm Y/N '))\n",
        "  if confirm == 'Y':\n",
        "      nuser_balance= balance - (w_amount*10)\n",
        "      print('Amount withdrawn')\n",
        "      print(f'Remaining Balance = £ {nuser_balance}')\n",
        "      print('Thank You.')\n",
        "      break\n",
        "  else:\n",
        "    print('\\nCancelling Transaction...')\n",
        "    print('Transaction Cancelled. Please start again.')\n",
        "    break"
      ],
      "metadata": {
        "id": "0w27_gJ-FP4w"
      },
      "execution_count": null,
      "outputs": []
    }
  ]
}